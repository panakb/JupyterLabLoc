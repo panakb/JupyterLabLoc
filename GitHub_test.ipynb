{
 "cells": [
  {
   "cell_type": "markdown",
   "id": "af55da9a-97af-4830-a3d6-b4625cbcd623",
   "metadata": {
    "tags": []
   },
   "source": [
    "# **Jupyter + GitHub testing**"
   ]
  },
  {
   "cell_type": "code",
   "execution_count": null,
   "id": "a11ddb66-5aa4-4983-b5cf-a52345809889",
   "metadata": {},
   "outputs": [],
   "source": []
  },
  {
   "cell_type": "code",
   "execution_count": 1,
   "id": "051d9efe-2d92-469d-92e1-217990582352",
   "metadata": {
    "tags": []
   },
   "outputs": [
    {
     "name": "stdout",
     "output_type": "stream",
     "text": [
      "Hello World!\n"
     ]
    }
   ],
   "source": [
    "print(\"Hello World!\")"
   ]
  },
  {
   "cell_type": "code",
   "execution_count": null,
   "id": "6e6518c0-1f67-4e28-ba1f-912f8cb147d1",
   "metadata": {},
   "outputs": [],
   "source": []
  }
 ],
 "metadata": {
  "kernelspec": {
   "display_name": "Python 3 (ipykernel)",
   "language": "python",
   "name": "python3"
  },
  "language_info": {
   "codemirror_mode": {
    "name": "ipython",
    "version": 3
   },
   "file_extension": ".py",
   "mimetype": "text/x-python",
   "name": "python",
   "nbconvert_exporter": "python",
   "pygments_lexer": "ipython3",
   "version": "3.11.5"
  }
 },
 "nbformat": 4,
 "nbformat_minor": 5
}
